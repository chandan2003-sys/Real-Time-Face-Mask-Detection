{
 "cells": [
  {
   "cell_type": "code",
   "execution_count": 1,
   "id": "cef9073d",
   "metadata": {},
   "outputs": [
    {
     "name": "stdout",
     "output_type": "stream",
     "text": [
      "Data saved successfully.\n"
     ]
    }
   ],
   "source": [
    "import os\n",
    "import cv2\n",
    "import numpy as np\n",
    "\n",
    "data_dir = \"../dataset\"\n",
    "categories = [\"with_mask\", \"without_mask\"]\n",
    "\n",
    "data = []\n",
    "labels = []\n",
    "\n",
    "for category in categories:\n",
    "    path = os.path.join(data_dir, category)\n",
    "    label = 1 if category == \"with_mask\" else 0\n",
    "    \n",
    "    for img in os.listdir(path):\n",
    "        img_path = os.path.join(path, img)\n",
    "        try:\n",
    "            image = cv2.imread(img_path)\n",
    "            image = cv2.resize(image, (128, 128))\n",
    "            data.append(image)\n",
    "            labels.append(label)\n",
    "        except:\n",
    "            pass\n",
    "\n",
    "# Convert to float32 to save memory\n",
    "x = (np.array(data, dtype=np.float32)) / 255.0\n",
    "y = np.array(labels)\n",
    "\n",
    "# Ensure the dataset folder exists before saving\n",
    "os.makedirs(\"../dataset\", exist_ok=True)\n",
    "\n",
    "# Save both arrays in a compressed format\n",
    "np.savez_compressed(\"../dataset/mask_data\", X=x, y=y)\n",
    "\n",
    "print(\"Data saved successfully.\")\n"
   ]
  }
 ],
 "metadata": {
  "kernelspec": {
   "display_name": "venv",
   "language": "python",
   "name": "python3"
  },
  "language_info": {
   "codemirror_mode": {
    "name": "ipython",
    "version": 3
   },
   "file_extension": ".py",
   "mimetype": "text/x-python",
   "name": "python",
   "nbconvert_exporter": "python",
   "pygments_lexer": "ipython3",
   "version": "3.12.4"
  }
 },
 "nbformat": 4,
 "nbformat_minor": 5
}
